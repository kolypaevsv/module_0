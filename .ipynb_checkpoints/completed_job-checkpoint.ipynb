{
 "cells": [
  {
   "cell_type": "code",
   "execution_count": 49,
   "metadata": {},
   "outputs": [
    {
     "name": "stdout",
     "output_type": "stream",
     "text": [
      "Загадано число от 0 до 100\n",
      "Ваш алгоритм угадывает число в среднем за 5 попыток\n"
     ]
    },
    {
     "data": {
      "text/plain": [
       "5"
      ]
     },
     "execution_count": 49,
     "metadata": {},
     "output_type": "execute_result"
    }
   ],
   "source": [
    "import numpy as np\n",
    "\n",
    "left_range = 0 # начало числового диапазона\n",
    "right_range = 100 # окончание числового диапазона\n",
    "number = np.random.randint(left_range, right_range+1)  # случайный выбор числа из диапазона\n",
    "print (\"Загадано число от\", left_range, \"до\", right_range)\n",
    "\n",
    "\n",
    "def game_core_v3(number): # функция поиска выбранного числа\n",
    "    count = 1\n",
    "    local_left_range = left_range # начало локального диапазона \n",
    "    local_right_range = right_range + 1 # окончание локального диапазона\n",
    "    while True:                        \n",
    "        predict = (local_left_range + local_right_range)//2 # выбираем число через бинарный поиск            \n",
    "        if number == predict: break # прекращаем поиск при равенстве выбираемого числа с загаданным\n",
    "        count += 1 \n",
    "        if number > predict: # меняем границу диапазона на выбираемое по условию число\n",
    "            local_left_range = predict \n",
    "        elif number < predict: \n",
    "            local_right_range = predict    \n",
    "    return(count)\n",
    "\n",
    "\n",
    "def score_game(game_core):\n",
    "    '''Запускаем игру 1000 раз, чтобы узнать, как быстро игра угадывает число'''\n",
    "    count_ls = []\n",
    "    np.random.seed(1)  # фиксируем RANDOM SEED, чтобы эксперимент был воспроизводим!\n",
    "    score_left_range = left_range # начало диапазона из 1000 чисел\n",
    "    score_right_range = right_range + 1 # окончание диапазона из 1000 чисел\n",
    "    random_array = np.random.randint(score_left_range, score_right_range, size=(1000))\n",
    "    for number in random_array:\n",
    "        count_ls.append(game_core(number))\n",
    "    score = int(np.mean(count_ls))\n",
    "    print(f\"Ваш алгоритм угадывает число в среднем за {score} попыток\")\n",
    "    return(score)\n",
    "\n",
    "score_game(game_core_v3)"
   ]
  },
  {
   "cell_type": "code",
   "execution_count": null,
   "metadata": {},
   "outputs": [],
   "source": []
  },
  {
   "cell_type": "code",
   "execution_count": null,
   "metadata": {},
   "outputs": [],
   "source": []
  }
 ],
 "metadata": {
  "kernelspec": {
   "display_name": "Python 3",
   "language": "python",
   "name": "python3"
  },
  "language_info": {
   "codemirror_mode": {
    "name": "ipython",
    "version": 3
   },
   "file_extension": ".py",
   "mimetype": "text/x-python",
   "name": "python",
   "nbconvert_exporter": "python",
   "pygments_lexer": "ipython3",
   "version": "3.8.5"
  }
 },
 "nbformat": 4,
 "nbformat_minor": 4
}
